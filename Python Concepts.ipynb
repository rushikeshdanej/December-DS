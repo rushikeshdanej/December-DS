{
 "cells": [
  {
   "cell_type": "markdown",
   "id": "f18b387a-1ddd-40e6-a1b4-48712401c52d",
   "metadata": {},
   "source": [
    "# Conditional Statements"
   ]
  },
  {
   "cell_type": "code",
   "execution_count": 3,
   "id": "b6c1c1c4-ee91-486b-b63c-35ec2b995dd1",
   "metadata": {},
   "outputs": [],
   "source": [
    "user_given_pass = 12345\n",
    "original = 123\n",
    "\n",
    "if user_given_pass == original:\n",
    "    print('Log in Successful')"
   ]
  },
  {
   "cell_type": "code",
   "execution_count": 5,
   "id": "9a1dc4fe-bdbe-4cb7-a245-e7fda9f0f6b8",
   "metadata": {},
   "outputs": [
    {
     "name": "stdout",
     "output_type": "stream",
     "text": [
      "Try again\n"
     ]
    }
   ],
   "source": [
    "if user_given_pass == original:\n",
    "    print('Log in Successful')\n",
    "else:\n",
    "    print('Try again')"
   ]
  },
  {
   "cell_type": "code",
   "execution_count": 9,
   "id": "740c52c2-5e1c-40ce-a7e8-10b940de7ffa",
   "metadata": {},
   "outputs": [
    {
     "name": "stdout",
     "output_type": "stream",
     "text": [
      "Grade B\n"
     ]
    }
   ],
   "source": [
    "marks = 55\n",
    "\n",
    "if marks > 80:\n",
    "    print('Grade A')\n",
    "else:\n",
    "    print('Grade B')"
   ]
  },
  {
   "cell_type": "markdown",
   "id": "f9209dda-2f2e-4f9d-939f-4f632bdeea33",
   "metadata": {},
   "source": [
    "# Loops in Python"
   ]
  },
  {
   "cell_type": "markdown",
   "id": "0d95813c-e443-4ccc-801d-ed27f893b5b2",
   "metadata": {},
   "source": [
    "1. For Loop\n",
    "2. While Loop"
   ]
  },
  {
   "cell_type": "code",
   "execution_count": null,
   "id": "d0124424-aaef-4a34-812e-6a982f84874f",
   "metadata": {},
   "outputs": [],
   "source": [
    "#While Loops\n",
    "\n",
    "\n",
    "python = 10\n",
    "\n",
    "while python > 0:\n",
    "    print('Learning python',python)\n",
    "    python = python - 1\n",
    "    \n",
    "print('Python completed')"
   ]
  },
  {
   "cell_type": "code",
   "execution_count": null,
   "id": "19236bf6-148c-4bc5-841f-bc4860b5ee35",
   "metadata": {},
   "outputs": [],
   "source": [
    "# Range function\n",
    "\n",
    "range(1,10)"
   ]
  },
  {
   "cell_type": "code",
   "execution_count": null,
   "id": "29248710-afda-4ffe-97a9-7244513adf8c",
   "metadata": {},
   "outputs": [],
   "source": [
    "#For loop\n",
    "\n",
    "for i in range(1,10):\n",
    "    print(i)"
   ]
  },
  {
   "cell_type": "code",
   "execution_count": null,
   "id": "13c13dc8-76a6-419e-ac9e-3fefa6dc57ab",
   "metadata": {},
   "outputs": [],
   "source": [
    "for x in range(1,10):\n",
    "    print(x**2)"
   ]
  },
  {
   "cell_type": "code",
   "execution_count": null,
   "id": "53f9828c-5aee-467e-8152-94e8f304dd9e",
   "metadata": {},
   "outputs": [],
   "source": [
    "company = ['flipkart','amazon','excelr']\n",
    "company"
   ]
  },
  {
   "cell_type": "code",
   "execution_count": null,
   "id": "5f4e959f-119b-4beb-a3bf-fabe1940e91d",
   "metadata": {},
   "outputs": [],
   "source": [
    "for i in company:\n",
    "    print('www.'+i+'.com')"
   ]
  },
  {
   "cell_type": "markdown",
   "id": "aae0aaea-b2c1-43e1-8463-578fc771eb02",
   "metadata": {},
   "source": [
    "# Functions\n",
    "\n",
    "- In python, there are two types of function.\n",
    "    - Built-in funtions\n",
    "    - User defined function"
   ]
  },
  {
   "cell_type": "code",
   "execution_count": null,
   "id": "6cf78450-9587-49f4-af12-0647b166d87a",
   "metadata": {},
   "outputs": [],
   "source": [
    "def add(num1,num2):\n",
    "    print(num1+num2)"
   ]
  },
  {
   "cell_type": "code",
   "execution_count": null,
   "id": "d78a71dd-d595-4d1a-ad5d-65eb35d55f4c",
   "metadata": {},
   "outputs": [],
   "source": [
    "add(45,85)"
   ]
  },
  {
   "cell_type": "code",
   "execution_count": null,
   "id": "04627342-70c9-47f3-9639-d460994add18",
   "metadata": {},
   "outputs": [],
   "source": []
  }
 ],
 "metadata": {
  "kernelspec": {
   "display_name": "Python 3 (ipykernel)",
   "language": "python",
   "name": "python3"
  },
  "language_info": {
   "codemirror_mode": {
    "name": "ipython",
    "version": 3
   },
   "file_extension": ".py",
   "mimetype": "text/x-python",
   "name": "python",
   "nbconvert_exporter": "python",
   "pygments_lexer": "ipython3",
   "version": "3.12.4"
  }
 },
 "nbformat": 4,
 "nbformat_minor": 5
}
