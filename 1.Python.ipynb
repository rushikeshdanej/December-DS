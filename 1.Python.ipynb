{
 "cells": [
  {
   "cell_type": "markdown",
   "id": "e4d1a026",
   "metadata": {},
   "source": [
    "# Variables in Python\n",
    "- Variables acts as a container to store data in memory space.\n",
    "- Variables are pointer towards object in python\n",
    "- Variables can start with letters or underscore.\n",
    "- You cannot include special characters while creating a variable.\n",
    "\n",
    "**Important points to remeber while creating a variable**\n",
    "1. Python is case sensitive\n",
    "2. If variable name involves more than 2 words, join those words with underscore.\n",
    "3. Give meaningful name to variables"
   ]
  },
  {
   "cell_type": "code",
   "execution_count": 3,
   "id": "46ee39cf",
   "metadata": {
    "ExecuteTime": {
     "end_time": "2023-07-27T07:54:41.177565Z",
     "start_time": "2023-07-27T07:54:41.167703Z"
    }
   },
   "outputs": [
    {
     "data": {
      "text/plain": [
       "10"
      ]
     },
     "execution_count": 3,
     "metadata": {},
     "output_type": "execute_result"
    }
   ],
   "source": [
    "a = 10\n",
    "a"
   ]
  },
  {
   "cell_type": "code",
   "execution_count": 11,
   "id": "664c2728",
   "metadata": {
    "ExecuteTime": {
     "end_time": "2023-07-25T10:56:03.296293Z",
     "start_time": "2023-07-25T10:56:03.271416Z"
    }
   },
   "outputs": [],
   "source": [
    "#Single line comment\n",
    "#This is second line"
   ]
  },
  {
   "cell_type": "code",
   "execution_count": 7,
   "id": "91c3d50c",
   "metadata": {
    "ExecuteTime": {
     "end_time": "2023-07-27T08:03:19.678711Z",
     "start_time": "2023-07-27T08:03:19.663492Z"
    }
   },
   "outputs": [
    {
     "data": {
      "text/plain": [
       "60"
      ]
     },
     "execution_count": 7,
     "metadata": {},
     "output_type": "execute_result"
    }
   ],
   "source": [
    "age = 60 #age variable contains 60 value.\n",
    "age"
   ]
  },
  {
   "cell_type": "code",
   "execution_count": 13,
   "id": "159d6f1b",
   "metadata": {
    "ExecuteTime": {
     "end_time": "2023-07-27T08:07:35.779204Z",
     "start_time": "2023-07-27T08:07:35.770270Z"
    }
   },
   "outputs": [
    {
     "data": {
      "text/plain": [
       "'This is first line \\nThis is second line \\nThis is third line'"
      ]
     },
     "execution_count": 13,
     "metadata": {},
     "output_type": "execute_result"
    }
   ],
   "source": [
    "#Multi-line comment\n",
    "'''This is first line \n",
    "This is second line \n",
    "This is third line'''"
   ]
  },
  {
   "cell_type": "code",
   "execution_count": 15,
   "id": "d00a5055",
   "metadata": {
    "ExecuteTime": {
     "end_time": "2023-07-27T08:08:19.763731Z",
     "start_time": "2023-07-27T08:08:19.757596Z"
    }
   },
   "outputs": [
    {
     "data": {
      "text/plain": [
       "60"
      ]
     },
     "execution_count": 15,
     "metadata": {},
     "output_type": "execute_result"
    }
   ],
   "source": [
    "age"
   ]
  },
  {
   "cell_type": "markdown",
   "id": "72a732b2",
   "metadata": {},
   "source": [
    "# Data types in python\n",
    "1. Integer\n",
    "2. Float\n",
    "3. String\n",
    "4. Boolean"
   ]
  },
  {
   "cell_type": "code",
   "execution_count": null,
   "id": "85545b8e",
   "metadata": {
    "ExecuteTime": {
     "end_time": "2023-07-27T08:46:36.215493Z",
     "start_time": "2023-07-27T08:46:36.197745Z"
    }
   },
   "outputs": [],
   "source": [
    "integer = 10\n",
    "continous = 45.2\n",
    "text = \"Python\"\n",
    "boolean = True"
   ]
  },
  {
   "cell_type": "code",
   "execution_count": null,
   "id": "5934cd5a-fc5e-4edf-aa1d-253f90459d7d",
   "metadata": {},
   "outputs": [],
   "source": [
    "integer\n",
    "continous\n",
    "text"
   ]
  },
  {
   "cell_type": "code",
   "execution_count": null,
   "id": "bdc54922",
   "metadata": {
    "ExecuteTime": {
     "end_time": "2023-07-27T08:47:05.218808Z",
     "start_time": "2023-07-27T08:47:05.199744Z"
    }
   },
   "outputs": [],
   "source": [
    "print(integer)\n",
    "print(continous)\n",
    "print(text)\n",
    "print(boolean)"
   ]
  },
  {
   "cell_type": "markdown",
   "id": "48220fa4",
   "metadata": {},
   "source": [
    "# Data Structures\n",
    "1. Lists\n",
    "2. Tuple\n",
    "3. Dictionary\n",
    "4. Sets"
   ]
  },
  {
   "cell_type": "markdown",
   "id": "78753086",
   "metadata": {},
   "source": [
    "**Lists**\n",
    "\n",
    "- Lists are the built in data structures in python.\n",
    "- Lists are heterogenous data structure.\n",
    "- Lists are mutable."
   ]
  },
  {
   "cell_type": "code",
   "execution_count": null,
   "id": "8417c924",
   "metadata": {
    "ExecuteTime": {
     "end_time": "2023-07-25T10:56:03.515450Z",
     "start_time": "2023-07-25T10:56:03.503871Z"
    }
   },
   "outputs": [],
   "source": [
    "#Creating lists"
   ]
  },
  {
   "cell_type": "code",
   "execution_count": null,
   "id": "f1570c8d",
   "metadata": {
    "ExecuteTime": {
     "end_time": "2023-07-31T07:43:34.905952Z",
     "start_time": "2023-07-31T07:43:34.891501Z"
    }
   },
   "outputs": [],
   "source": [
    "abc = []\n",
    "type(abc)"
   ]
  },
  {
   "cell_type": "code",
   "execution_count": null,
   "id": "3f4790ef",
   "metadata": {
    "ExecuteTime": {
     "end_time": "2023-07-31T07:44:11.905618Z",
     "start_time": "2023-07-31T07:44:11.885599Z"
    }
   },
   "outputs": [],
   "source": [
    "lst = [10,10.2,True,'Python']"
   ]
  },
  {
   "cell_type": "code",
   "execution_count": null,
   "id": "8884c02e",
   "metadata": {
    "ExecuteTime": {
     "end_time": "2023-07-31T07:45:45.367210Z",
     "start_time": "2023-07-31T07:45:45.348355Z"
    }
   },
   "outputs": [],
   "source": [
    "lst"
   ]
  },
  {
   "cell_type": "code",
   "execution_count": null,
   "id": "0554e18c-2ea4-4243-b5fc-7b7d9fa31d44",
   "metadata": {},
   "outputs": [],
   "source": [
    "lst"
   ]
  },
  {
   "cell_type": "code",
   "execution_count": null,
   "id": "2c6bba18",
   "metadata": {
    "ExecuteTime": {
     "end_time": "2023-07-25T10:56:03.526432Z",
     "start_time": "2023-07-25T10:56:03.519231Z"
    }
   },
   "outputs": [],
   "source": [
    "#append"
   ]
  },
  {
   "cell_type": "code",
   "execution_count": null,
   "id": "2d9bdde0-128a-473a-a473-f172eee3b861",
   "metadata": {},
   "outputs": [],
   "source": [
    "lst.append(15)"
   ]
  },
  {
   "cell_type": "code",
   "execution_count": null,
   "id": "69ce4b9b-f70a-4787-8541-6f95b7f26eb1",
   "metadata": {},
   "outputs": [],
   "source": [
    "lst"
   ]
  },
  {
   "cell_type": "code",
   "execution_count": null,
   "id": "19d6c98e",
   "metadata": {
    "ExecuteTime": {
     "end_time": "2023-07-31T07:46:42.563786Z",
     "start_time": "2023-07-31T07:46:42.547692Z"
    }
   },
   "outputs": [],
   "source": [
    "lst.append(False,78)"
   ]
  },
  {
   "cell_type": "code",
   "execution_count": null,
   "id": "bbde84dd",
   "metadata": {
    "ExecuteTime": {
     "end_time": "2023-07-31T07:46:47.779321Z",
     "start_time": "2023-07-31T07:46:47.761935Z"
    }
   },
   "outputs": [],
   "source": [
    "lst"
   ]
  },
  {
   "cell_type": "code",
   "execution_count": null,
   "id": "e5a6f491",
   "metadata": {
    "ExecuteTime": {
     "end_time": "2023-07-25T10:56:03.609564Z",
     "start_time": "2023-07-25T10:56:03.595848Z"
    }
   },
   "outputs": [],
   "source": [
    "#remove"
   ]
  },
  {
   "cell_type": "code",
   "execution_count": null,
   "id": "d079c056",
   "metadata": {
    "ExecuteTime": {
     "end_time": "2023-07-31T07:56:52.471097Z",
     "start_time": "2023-07-31T07:56:52.465526Z"
    }
   },
   "outputs": [],
   "source": [
    "lst.remove(10.2)"
   ]
  },
  {
   "cell_type": "code",
   "execution_count": null,
   "id": "2aac00d6",
   "metadata": {
    "ExecuteTime": {
     "end_time": "2023-07-31T07:56:56.827835Z",
     "start_time": "2023-07-31T07:56:56.810477Z"
    }
   },
   "outputs": [],
   "source": [
    "lst"
   ]
  },
  {
   "cell_type": "code",
   "execution_count": null,
   "id": "ec22c88c-ff8b-43d0-885c-81bd8465f14a",
   "metadata": {},
   "outputs": [],
   "source": [
    "lst[-3]"
   ]
  },
  {
   "cell_type": "code",
   "execution_count": null,
   "id": "576c6e49-2d89-4631-a69c-50a563dc2f9a",
   "metadata": {},
   "outputs": [],
   "source": [
    "lst[0:2]"
   ]
  },
  {
   "cell_type": "code",
   "execution_count": null,
   "id": "4436113a-777f-411d-8691-f96c9acc0eb4",
   "metadata": {},
   "outputs": [],
   "source": [
    "lst[2:]"
   ]
  },
  {
   "cell_type": "code",
   "execution_count": null,
   "id": "746b75c2-ce1d-44b9-bf36-5b1649238248",
   "metadata": {},
   "outputs": [],
   "source": [
    "lst.count(15)"
   ]
  },
  {
   "cell_type": "code",
   "execution_count": null,
   "id": "4616704b-6e01-4998-ba99-cb5d53764d75",
   "metadata": {},
   "outputs": [],
   "source": [
    "len(lst)"
   ]
  },
  {
   "cell_type": "code",
   "execution_count": null,
   "id": "5a41cc57-9397-4ecd-9035-3e734a6a8526",
   "metadata": {},
   "outputs": [],
   "source": [
    "lst"
   ]
  },
  {
   "cell_type": "code",
   "execution_count": null,
   "id": "cf7f9435-bcb2-49bb-bcdc-77efa647ade0",
   "metadata": {},
   "outputs": [],
   "source": [
    "lst.index('Python')"
   ]
  },
  {
   "cell_type": "markdown",
   "id": "5dbba063",
   "metadata": {},
   "source": [
    "**Tuple**\n",
    "\n",
    "- Tuples are ordered and heterogenous data structure.\n",
    "- Tuples are immutable."
   ]
  },
  {
   "cell_type": "code",
   "execution_count": null,
   "id": "174d82a7",
   "metadata": {
    "ExecuteTime": {
     "end_time": "2023-07-25T10:56:03.634576Z",
     "start_time": "2023-07-25T10:56:03.626902Z"
    }
   },
   "outputs": [],
   "source": [
    "#Create a tuple"
   ]
  },
  {
   "cell_type": "code",
   "execution_count": null,
   "id": "52b0c1d4",
   "metadata": {
    "ExecuteTime": {
     "end_time": "2023-07-31T08:00:31.979661Z",
     "start_time": "2023-07-31T08:00:31.973396Z"
    }
   },
   "outputs": [],
   "source": [
    "t = ()\n",
    "type(t)"
   ]
  },
  {
   "cell_type": "code",
   "execution_count": null,
   "id": "9d6cc3a9",
   "metadata": {
    "ExecuteTime": {
     "end_time": "2023-07-31T08:00:54.886582Z",
     "start_time": "2023-07-31T08:00:54.876746Z"
    }
   },
   "outputs": [],
   "source": [
    "t = (10,5.5,True,'python')\n",
    "t"
   ]
  },
  {
   "cell_type": "code",
   "execution_count": null,
   "id": "5b616bb0",
   "metadata": {
    "ExecuteTime": {
     "end_time": "2023-07-31T08:02:01.130314Z",
     "start_time": "2023-07-31T08:02:01.114422Z"
    }
   },
   "outputs": [],
   "source": [
    "t.count(5.5)"
   ]
  },
  {
   "cell_type": "code",
   "execution_count": null,
   "id": "5e96b44f",
   "metadata": {
    "ExecuteTime": {
     "end_time": "2023-07-31T08:02:11.888777Z",
     "start_time": "2023-07-31T08:02:11.868835Z"
    }
   },
   "outputs": [],
   "source": [
    "t.index(True)"
   ]
  },
  {
   "cell_type": "code",
   "execution_count": null,
   "id": "e6436ef7",
   "metadata": {
    "ExecuteTime": {
     "end_time": "2023-07-25T10:56:03.643008Z",
     "start_time": "2023-07-25T10:56:03.637489Z"
    }
   },
   "outputs": [],
   "source": [
    "#Accessing elements from tuple"
   ]
  },
  {
   "cell_type": "code",
   "execution_count": null,
   "id": "a913ba15",
   "metadata": {
    "ExecuteTime": {
     "end_time": "2023-07-31T08:02:51.094947Z",
     "start_time": "2023-07-31T08:02:51.074954Z"
    }
   },
   "outputs": [],
   "source": [
    "t[3]"
   ]
  },
  {
   "cell_type": "markdown",
   "id": "fb3d7af9",
   "metadata": {},
   "source": [
    "**Dictionary**\n",
    "\n",
    "- Python dictionaries are ordered collection of items.\n",
    "- Dictionary is mutable data structure.\n",
    "- It has key and value pair."
   ]
  },
  {
   "cell_type": "code",
   "execution_count": null,
   "id": "5a7874ad",
   "metadata": {
    "ExecuteTime": {
     "end_time": "2023-07-25T10:56:03.658016Z",
     "start_time": "2023-07-25T10:56:03.645308Z"
    }
   },
   "outputs": [],
   "source": [
    "#Creating an empty dictionary"
   ]
  },
  {
   "cell_type": "code",
   "execution_count": null,
   "id": "027b0252",
   "metadata": {
    "ExecuteTime": {
     "end_time": "2023-07-31T08:05:13.277819Z",
     "start_time": "2023-07-31T08:05:13.266306Z"
    }
   },
   "outputs": [],
   "source": [
    "dictionary = {}\n",
    "type(dictionary)"
   ]
  },
  {
   "cell_type": "code",
   "execution_count": null,
   "id": "de8f6bcf",
   "metadata": {
    "ExecuteTime": {
     "end_time": "2023-07-25T10:56:03.669256Z",
     "start_time": "2023-07-25T10:56:03.660414Z"
    }
   },
   "outputs": [],
   "source": [
    "#Adding elements in a dictionary"
   ]
  },
  {
   "cell_type": "code",
   "execution_count": null,
   "id": "c62f2131",
   "metadata": {
    "ExecuteTime": {
     "end_time": "2023-07-31T08:07:02.158012Z",
     "start_time": "2023-07-31T08:07:02.146202Z"
    }
   },
   "outputs": [],
   "source": [
    "dictionary = {\n",
    "    'Name':'ABC',\n",
    "    'Age' : 25,\n",
    "    'Location' :'Pune',\n",
    "    'Course': 'DS'\n",
    "}"
   ]
  },
  {
   "cell_type": "code",
   "execution_count": null,
   "id": "28932946",
   "metadata": {
    "ExecuteTime": {
     "end_time": "2023-07-31T08:07:22.937437Z",
     "start_time": "2023-07-31T08:07:22.926812Z"
    }
   },
   "outputs": [],
   "source": [
    "dictionary"
   ]
  },
  {
   "cell_type": "code",
   "execution_count": null,
   "id": "093b715b",
   "metadata": {
    "ExecuteTime": {
     "end_time": "2023-07-31T08:12:20.335272Z",
     "start_time": "2023-07-31T08:12:20.329362Z"
    }
   },
   "outputs": [],
   "source": [
    "#Adding values in dictionary(update)\n",
    "dictionary.update({'Date':2023})"
   ]
  },
  {
   "cell_type": "code",
   "execution_count": null,
   "id": "11a1265d",
   "metadata": {
    "ExecuteTime": {
     "end_time": "2023-07-31T08:12:27.404602Z",
     "start_time": "2023-07-31T08:12:27.393764Z"
    }
   },
   "outputs": [],
   "source": [
    "dictionary"
   ]
  },
  {
   "cell_type": "code",
   "execution_count": null,
   "id": "d3f5e395",
   "metadata": {
    "ExecuteTime": {
     "end_time": "2023-07-31T08:13:22.780414Z",
     "start_time": "2023-07-31T08:13:22.764383Z"
    }
   },
   "outputs": [],
   "source": [
    "dictionary.update({'Subject' : 'ML','Month':'July'})"
   ]
  },
  {
   "cell_type": "code",
   "execution_count": null,
   "id": "bb87bfcd",
   "metadata": {
    "ExecuteTime": {
     "end_time": "2023-07-31T08:13:34.797562Z",
     "start_time": "2023-07-31T08:13:34.780506Z"
    }
   },
   "outputs": [],
   "source": [
    "dictionary"
   ]
  },
  {
   "cell_type": "code",
   "execution_count": null,
   "id": "116a2fd3",
   "metadata": {
    "ExecuteTime": {
     "end_time": "2023-07-31T08:16:52.765693Z",
     "start_time": "2023-07-31T08:16:52.749126Z"
    }
   },
   "outputs": [],
   "source": [
    "dictionary.pop('Subject')"
   ]
  },
  {
   "cell_type": "code",
   "execution_count": null,
   "id": "911dd6c1",
   "metadata": {
    "ExecuteTime": {
     "end_time": "2023-07-31T08:16:59.198230Z",
     "start_time": "2023-07-31T08:16:59.177721Z"
    }
   },
   "outputs": [],
   "source": [
    "dictionary"
   ]
  },
  {
   "cell_type": "markdown",
   "id": "da0825b4",
   "metadata": {},
   "source": [
    "**Set**\n",
    "\n",
    "- Set is a collection which is unordered,unindexed.\n",
    "- Set is immutable.\n",
    "- Sets are unordered, so you cannot be sure in which order the items will appear.\n",
    "- Sets do not allow duplicate values.\n",
    "- Once a set is created, you cannot change its items, but you can remove items and add new items.\n",
    "- As sets are unordered, they do not support indexing and slicing operations."
   ]
  },
  {
   "cell_type": "code",
   "execution_count": null,
   "id": "f77bace1",
   "metadata": {
    "ExecuteTime": {
     "end_time": "2023-07-31T08:23:12.787603Z",
     "start_time": "2023-07-31T08:23:12.766370Z"
    }
   },
   "outputs": [],
   "source": [
    "#creating an empty set\n",
    "s = {10,20,True,'Hello'}\n",
    "type(s)"
   ]
  },
  {
   "cell_type": "code",
   "execution_count": null,
   "id": "d5c148cf",
   "metadata": {
    "ExecuteTime": {
     "end_time": "2023-07-31T08:23:42.345588Z",
     "start_time": "2023-07-31T08:23:42.337896Z"
    }
   },
   "outputs": [],
   "source": [
    "#Does not allow duplicate items\n",
    "s1 = {10,10,10,20,30,40,50}"
   ]
  },
  {
   "cell_type": "code",
   "execution_count": null,
   "id": "7295fc4f",
   "metadata": {
    "ExecuteTime": {
     "end_time": "2023-07-31T08:23:48.027732Z",
     "start_time": "2023-07-31T08:23:48.013075Z"
    }
   },
   "outputs": [],
   "source": [
    "s1"
   ]
  },
  {
   "cell_type": "code",
   "execution_count": null,
   "id": "037e0a3f",
   "metadata": {
    "ExecuteTime": {
     "end_time": "2023-07-25T10:56:04.032932Z",
     "start_time": "2023-07-25T10:56:04.032932Z"
    }
   },
   "outputs": [],
   "source": [
    "#Does not support indexing"
   ]
  },
  {
   "cell_type": "code",
   "execution_count": null,
   "id": "d68bb6d0",
   "metadata": {
    "ExecuteTime": {
     "end_time": "2023-07-31T08:24:22.726519Z",
     "start_time": "2023-07-31T08:24:22.705393Z"
    }
   },
   "outputs": [],
   "source": [
    "s1[4]"
   ]
  },
  {
   "cell_type": "code",
   "execution_count": null,
   "id": "e982d040",
   "metadata": {
    "ExecuteTime": {
     "end_time": "2023-07-31T08:24:53.742107Z",
     "start_time": "2023-07-31T08:24:53.730930Z"
    }
   },
   "outputs": [],
   "source": [
    "#Add\n",
    "s1.add(60)"
   ]
  },
  {
   "cell_type": "code",
   "execution_count": null,
   "id": "8c391c81",
   "metadata": {
    "ExecuteTime": {
     "end_time": "2023-07-31T08:24:59.016523Z",
     "start_time": "2023-07-31T08:24:59.000408Z"
    }
   },
   "outputs": [],
   "source": [
    "s1"
   ]
  },
  {
   "cell_type": "code",
   "execution_count": null,
   "id": "a2a41632-17f9-4eae-b5f0-9a10e5b5c0a5",
   "metadata": {},
   "outputs": [],
   "source": [
    "s1.add(1)\n",
    "s1"
   ]
  },
  {
   "cell_type": "code",
   "execution_count": null,
   "id": "de5eded3",
   "metadata": {
    "ExecuteTime": {
     "end_time": "2023-07-25T10:56:04.037977Z",
     "start_time": "2023-07-25T10:56:04.037977Z"
    }
   },
   "outputs": [],
   "source": [
    "#pop"
   ]
  },
  {
   "cell_type": "code",
   "execution_count": null,
   "id": "a7c2f0aa",
   "metadata": {
    "ExecuteTime": {
     "end_time": "2023-07-31T08:25:39.301132Z",
     "start_time": "2023-07-31T08:25:39.284974Z"
    }
   },
   "outputs": [],
   "source": [
    "s1.pop()"
   ]
  },
  {
   "cell_type": "code",
   "execution_count": null,
   "id": "1d9e2195",
   "metadata": {
    "ExecuteTime": {
     "end_time": "2023-07-31T08:25:49.824590Z",
     "start_time": "2023-07-31T08:25:49.814949Z"
    }
   },
   "outputs": [],
   "source": [
    "s1"
   ]
  },
  {
   "cell_type": "code",
   "execution_count": null,
   "id": "a21a3a4d-6b0b-4417-926f-599c24af8831",
   "metadata": {},
   "outputs": [],
   "source": []
  }
 ],
 "metadata": {
  "_draft": {
   "nbviewer_url": "https://gist.github.com/c7e48d2b0f85e662ce272c77589a4f43"
  },
  "gist": {
   "data": {
    "description": "ExcelR/Python_Basics.ipynb",
    "public": true
   },
   "id": "c7e48d2b0f85e662ce272c77589a4f43"
  },
  "kernelspec": {
   "display_name": "Python 3 (ipykernel)",
   "language": "python",
   "name": "python3"
  },
  "language_info": {
   "codemirror_mode": {
    "name": "ipython",
    "version": 3
   },
   "file_extension": ".py",
   "mimetype": "text/x-python",
   "name": "python",
   "nbconvert_exporter": "python",
   "pygments_lexer": "ipython3",
   "version": "3.12.4"
  }
 },
 "nbformat": 4,
 "nbformat_minor": 5
}
